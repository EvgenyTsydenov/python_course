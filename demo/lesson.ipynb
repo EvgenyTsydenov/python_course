{
 "cells": [
  {
   "cell_type": "markdown",
   "metadata": {},
   "source": [
    "# Lesson name"
   ]
  },
  {
   "cell_type": "markdown",
   "metadata": {},
   "source": [
    "Some theory and examples."
   ]
  },
  {
   "cell_type": "code",
   "execution_count": 1,
   "metadata": {},
   "outputs": [
    {
     "name": "stdout",
     "output_type": "stream",
     "text": [
      "Hey!\n"
     ]
    }
   ],
   "source": [
    "print(\"Hey!\")"
   ]
  },
  {
   "cell_type": "markdown",
   "metadata": {},
   "source": [
    "The cells below show how each task should be designed."
   ]
  },
  {
   "cell_type": "markdown",
   "metadata": {},
   "source": [
    "#### TODO: Triangle perimeter"
   ]
  },
  {
   "cell_type": "markdown",
   "metadata": {},
   "source": [
    "Write a function that determines the perimeter of a triangle using the length of three sides."
   ]
  },
  {
   "cell_type": "code",
   "execution_count": 2,
   "metadata": {},
   "outputs": [],
   "source": [
    "def get_perimeter(a: float, b: float, c: float) -> float:\n",
    "    \"\"\"Get triangle perimeter.\n",
    "\n",
    "    Args:\n",
    "        a: First triangle side.\n",
    "        b: Second triangle side.\n",
    "        c: Third triangle side.\n",
    "\n",
    "    Returns:\n",
    "        Perimeter.\n",
    "    \"\"\"\n",
    "    # Write your code instead of None\n",
    "    perimeter = None\n",
    "    ### BEGIN SOLUTION\n",
    "    perimeter = a + b + c\n",
    "    ### END SOLUTION\n",
    "    return perimeter"
   ]
  },
  {
   "cell_type": "code",
   "execution_count": 3,
   "metadata": {},
   "outputs": [
    {
     "name": "stdout",
     "output_type": "stream",
     "text": [
      "Perimeter of triangle with sides 3, 4, 5: 12\n"
     ]
    }
   ],
   "source": [
    "# Check\n",
    "perimeter = get_perimeter(3, 4, 5)\n",
    "print(f\"Perimeter of triangle with sides 3, 4, 5: {perimeter}\")\n",
    "### BEGIN HIDDEN TESTS\n",
    "assert get_perimeter(5, 5, 5) == 15\n",
    "assert get_perimeter(2, 3, 4) == 9\n",
    "assert get_perimeter(15, 24, 18) == 57\n",
    "### END HIDDEN TESTS"
   ]
  },
  {
   "cell_type": "markdown",
   "metadata": {},
   "source": [
    "Expected result:\n",
    "\n",
    "Perimeter of triangle with sides 3, 4, 5: 12\n",
    "\n",
    "---\n"
   ]
  }
 ],
 "metadata": {
  "celltoolbar": "Create Assignment",
  "kernelspec": {
   "display_name": "Python 3 (ipykernel)",
   "language": "python",
   "name": "python3"
  },
  "language_info": {
   "codemirror_mode": {
    "name": "ipython",
    "version": 3
   },
   "file_extension": ".py",
   "mimetype": "text/x-python",
   "name": "python",
   "nbconvert_exporter": "python",
   "pygments_lexer": "ipython3",
   "version": "3.10.4"
  }
 },
 "nbformat": 4,
 "nbformat_minor": 1
}
